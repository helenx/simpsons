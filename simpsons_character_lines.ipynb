{
 "cells": [
  {
   "cell_type": "markdown",
   "metadata": {},
   "source": [
    "# Analysis of lines spoken by main characters by season\n",
    "\n",
    "We'll parse the Simpsons database of episodes and scripts to look at how the dialogue varies for the main characters by episode and season."
   ]
  },
  {
   "cell_type": "code",
   "execution_count": 2,
   "metadata": {
    "collapsed": true
   },
   "outputs": [],
   "source": [
    "# imports\n",
    "import bs4\n",
    "import matplotlib.pyplot as plt\n",
    "import numpy as np\n",
    "import pandas as pd\n",
    "import seaborn as sns\n",
    "import urllib\n",
    "import time\n",
    "sns.set()\n",
    "%matplotlib inline\n",
    "import psycopg2\n",
    "from sqlalchemy import create_engine"
   ]
  },
  {
   "cell_type": "markdown",
   "metadata": {},
   "source": [
    "## Connect to PostgreSQL database of Simpsons scripts"
   ]
  },
  {
   "cell_type": "code",
   "execution_count": 3,
   "metadata": {},
   "outputs": [
    {
     "name": "stdout",
     "output_type": "stream",
     "text": [
      "postgres://hsf001@localhost/simpsonsscripts\n"
     ]
    }
   ],
   "source": [
    "# connect to postgresl\n",
    "dbname = 'simpsonsscripts'\n",
    "username = 'hsf001'\n",
    "\n",
    "con = None\n",
    "con = psycopg2.connect(database = dbname, user = username)\n",
    "\n",
    "engine = create_engine('postgres://%s@localhost/%s'%(username,dbname))\n",
    "print(engine.url)"
   ]
  },
  {
   "cell_type": "markdown",
   "metadata": {},
   "source": [
    "## Pull scripts from one season and sort by character\n",
    "\n",
    "We'll focus on one season and count how many lines are attributed to each of the main characters (Homer Simpson, Marge Simpson, Bart Simpson, and Lisa Simpson) in each episode."
   ]
  },
  {
   "cell_type": "code",
   "execution_count": 13,
   "metadata": {},
   "outputs": [
    {
     "data": {
      "text/html": [
       "<div>\n",
       "<style>\n",
       "    .dataframe thead tr:only-child th {\n",
       "        text-align: right;\n",
       "    }\n",
       "\n",
       "    .dataframe thead th {\n",
       "        text-align: left;\n",
       "    }\n",
       "\n",
       "    .dataframe tbody tr th {\n",
       "        vertical-align: top;\n",
       "    }\n",
       "</style>\n",
       "<table border=\"1\" class=\"dataframe\">\n",
       "  <thead>\n",
       "    <tr style=\"text-align: right;\">\n",
       "      <th></th>\n",
       "      <th>season</th>\n",
       "      <th>number</th>\n",
       "      <th>name</th>\n",
       "      <th>text</th>\n",
       "    </tr>\n",
       "  </thead>\n",
       "  <tbody>\n",
       "    <tr>\n",
       "      <th>0</th>\n",
       "      <td>5</td>\n",
       "      <td>5</td>\n",
       "      <td>Treehouse of Horror IV</td>\n",
       "      <td>Richard Nixon:  Yes, Master.</td>\n",
       "    </tr>\n",
       "    <tr>\n",
       "      <th>1</th>\n",
       "      <td>5</td>\n",
       "      <td>5</td>\n",
       "      <td>Treehouse of Horror IV</td>\n",
       "      <td>(NIGHT GALLERY-TYPE SET: int. night gallery-ty...</td>\n",
       "    </tr>\n",
       "    <tr>\n",
       "      <th>2</th>\n",
       "      <td>5</td>\n",
       "      <td>5</td>\n",
       "      <td>Treehouse of Horror IV</td>\n",
       "      <td>Bart Simpson:  Paintings. Lifeless images rend...</td>\n",
       "    </tr>\n",
       "    <tr>\n",
       "      <th>3</th>\n",
       "      <td>5</td>\n",
       "      <td>5</td>\n",
       "      <td>Treehouse of Horror IV</td>\n",
       "      <td>Bart Simpson:  They become portals to hell so ...</td>\n",
       "    </tr>\n",
       "    <tr>\n",
       "      <th>4</th>\n",
       "      <td>5</td>\n",
       "      <td>5</td>\n",
       "      <td>Treehouse of Horror IV</td>\n",
       "      <td>Marge Simpson:  Bart! You should warn people t...</td>\n",
       "    </tr>\n",
       "  </tbody>\n",
       "</table>\n",
       "</div>"
      ],
      "text/plain": [
       "  season number                    name  \\\n",
       "0      5      5  Treehouse of Horror IV   \n",
       "1      5      5  Treehouse of Horror IV   \n",
       "2      5      5  Treehouse of Horror IV   \n",
       "3      5      5  Treehouse of Horror IV   \n",
       "4      5      5  Treehouse of Horror IV   \n",
       "\n",
       "                                                text  \n",
       "0                       Richard Nixon:  Yes, Master.  \n",
       "1  (NIGHT GALLERY-TYPE SET: int. night gallery-ty...  \n",
       "2  Bart Simpson:  Paintings. Lifeless images rend...  \n",
       "3  Bart Simpson:  They become portals to hell so ...  \n",
       "4  Marge Simpson:  Bart! You should warn people t...  "
      ]
     },
     "execution_count": 13,
     "metadata": {},
     "output_type": "execute_result"
    }
   ],
   "source": [
    "# SQL query for script from one episode: Season 5, Episode 5\n",
    "\n",
    "sql_query = \"\"\"\n",
    "SELECT ep.season, ep.number, ep.name, scripts.text FROM episodes ep  \n",
    "  LEFT JOIN scripts ON ep.url = scripts.url WHERE ep.season='5' AND ep.number='5'\n",
    "\"\"\"\n",
    "output_from_sql = pd.read_sql_query(sql_query,con)\n",
    "output_from_sql.head()"
   ]
  },
  {
   "cell_type": "code",
   "execution_count": 144,
   "metadata": {},
   "outputs": [
    {
     "data": {
      "text/html": [
       "<div>\n",
       "<style>\n",
       "    .dataframe thead tr:only-child th {\n",
       "        text-align: right;\n",
       "    }\n",
       "\n",
       "    .dataframe thead th {\n",
       "        text-align: left;\n",
       "    }\n",
       "\n",
       "    .dataframe tbody tr th {\n",
       "        vertical-align: top;\n",
       "    }\n",
       "</style>\n",
       "<table border=\"1\" class=\"dataframe\">\n",
       "  <thead>\n",
       "    <tr style=\"text-align: right;\">\n",
       "      <th></th>\n",
       "      <th>number</th>\n",
       "      <th>name</th>\n",
       "    </tr>\n",
       "  </thead>\n",
       "  <tbody>\n",
       "    <tr>\n",
       "      <th>0</th>\n",
       "      <td>1</td>\n",
       "      <td>Homer's Barbershop Quartet</td>\n",
       "    </tr>\n",
       "    <tr>\n",
       "      <th>1</th>\n",
       "      <td>2</td>\n",
       "      <td>Cape Feare</td>\n",
       "    </tr>\n",
       "    <tr>\n",
       "      <th>2</th>\n",
       "      <td>3</td>\n",
       "      <td>Homer Goes to College</td>\n",
       "    </tr>\n",
       "    <tr>\n",
       "      <th>3</th>\n",
       "      <td>4</td>\n",
       "      <td>Rosebud</td>\n",
       "    </tr>\n",
       "    <tr>\n",
       "      <th>4</th>\n",
       "      <td>5</td>\n",
       "      <td>Treehouse of Horror IV</td>\n",
       "    </tr>\n",
       "  </tbody>\n",
       "</table>\n",
       "</div>"
      ],
      "text/plain": [
       "  number                        name\n",
       "0      1  Homer's Barbershop Quartet\n",
       "1      2                  Cape Feare\n",
       "2      3       Homer Goes to College\n",
       "3      4                     Rosebud\n",
       "4      5      Treehouse of Horror IV"
      ]
     },
     "execution_count": 144,
     "metadata": {},
     "output_type": "execute_result"
    }
   ],
   "source": [
    "# SQL query for number of lines for a character for each episode in a season\n",
    "\n",
    "sql_query = \"\"\"\n",
    "SELECT ep.number, COUNT(*) FROM episodes ep  \n",
    "  LEFT JOIN scripts ON ep.url = scripts.url WHERE ep.season='5'\n",
    "  AND scripts.text LIKE 'Homer Simpson: %'\n",
    "  GROUP BY ep.number\n",
    "  ORDER BY ep.number\n",
    "\"\"\"\n",
    "\n",
    "home_sea05 = pd.read_sql_query(sql_query,con)\n",
    "\n",
    "sql_query = \"\"\"\n",
    "SELECT ep.number, COUNT(*) FROM episodes ep  \n",
    "  LEFT JOIN scripts ON ep.url = scripts.url WHERE ep.season='5'\n",
    "  AND scripts.text LIKE 'Marge Simpson: %'\n",
    "  GROUP BY ep.number\n",
    "  ORDER BY ep.number\n",
    "\"\"\"\n",
    "\n",
    "marg_sea05 = pd.read_sql_query(sql_query,con)\n",
    "\n",
    "sql_query = \"\"\"\n",
    "SELECT ep.number, COUNT(*) FROM episodes ep  \n",
    "  LEFT JOIN scripts ON ep.url = scripts.url WHERE ep.season='5'\n",
    "  AND scripts.text LIKE 'Bart Simpson: %'\n",
    "  GROUP BY ep.number\n",
    "  ORDER BY ep.number\n",
    "\"\"\"\n",
    "\n",
    "bart_sea05 = pd.read_sql_query(sql_query,con)\n",
    "\n",
    "sql_query = \"\"\"\n",
    "SELECT ep.number, COUNT(*) FROM episodes ep  \n",
    "  LEFT JOIN scripts ON ep.url = scripts.url WHERE ep.season='5'\n",
    "  AND scripts.text LIKE 'Lisa Simpson: %'\n",
    "  GROUP BY ep.number\n",
    "  ORDER BY ep.number\n",
    "\"\"\"\n",
    "\n",
    "lisa_sea05 = pd.read_sql_query(sql_query,con)\n",
    "\n",
    "sql_query = \"\"\"\n",
    "SELECT ep.number, COUNT(*) FROM episodes ep  \n",
    "  LEFT JOIN scripts ON ep.url = scripts.url WHERE ep.season='5'\n",
    "  AND scripts.text LIKE 'Maggie Simpson: %'\n",
    "  GROUP BY ep.number\n",
    "  ORDER BY ep.number\n",
    "\"\"\"\n",
    "\n",
    "magg_sea05 = pd.read_sql_query(sql_query,con)\n",
    "\n",
    "# SQL query to get episode names\n",
    "\n",
    "sql_query = \"\"\"\n",
    "SELECT number, name FROM episodes WHERE season='5'\n",
    "\"\"\"\n",
    "\n",
    "name_sea05 = pd.read_sql_query(sql_query,con)\n",
    "name_sea05.head()"
   ]
  },
  {
   "cell_type": "code",
   "execution_count": null,
   "metadata": {
    "collapsed": true
   },
   "outputs": [],
   "source": [
    "# example for data format and stacked bar plot\n",
    "#df = pd.DataFrame(columns=[\"Character\",\"One\",\"Two\",\"Three\"],\n",
    "#                  data=[[\"Homer\",1,2,3],\n",
    "#                        [\"Marge\",1,3,5]])\n",
    "#sns.set()\n",
    "#df.set_index('Character').T.plot(kind='bar', stacked=True)"
   ]
  },
  {
   "cell_type": "code",
   "execution_count": 206,
   "metadata": {},
   "outputs": [
    {
     "data": {
      "text/plain": [
       "<matplotlib.axes._subplots.AxesSubplot at 0x11965c5c0>"
      ]
     },
     "execution_count": 206,
     "metadata": {},
     "output_type": "execute_result"
    },
    {
     "data": {
      "image/png": "[encoded data removed]",
      "text/plain": [
       "<matplotlib.figure.Figure at 0x119a6f470>"
      ]
     },
     "metadata": {},
     "output_type": "display_data"
    }
   ],
   "source": [
    "# make episode number integer\n",
    "home_sea05['number']=home_sea05['number'].astype(int)\n",
    "marg_sea05['number']=marg_sea05['number'].astype(int)\n",
    "bart_sea05['number']=bart_sea05['number'].astype(int)\n",
    "lisa_sea05['number']=lisa_sea05['number'].astype(int)\n",
    "magg_sea05['number']=magg_sea05['number'].astype(int)\n",
    "\n",
    "# sort lines per character by episode number\n",
    "home_sea05.sort_values(by='number', inplace=True)\n",
    "marg_sea05.sort_values(by='number', inplace=True)\n",
    "bart_sea05.sort_values(by='number', inplace=True)\n",
    "lisa_sea05.sort_values(by='number', inplace=True)\n",
    "magg_sea05.sort_values(by='number', inplace=True)\n",
    "\n",
    "# create dataframe from data\n",
    "columns=[\"Character\"]\n",
    "columns.extend(name_sea05['name'].tolist())\n",
    "homer=[\"Homer\"]\n",
    "homer.extend(home_sea05['count'].tolist())\n",
    "marge=[\"Marge\"]\n",
    "marge.extend(marg_sea05['count'].tolist())\n",
    "bart=[\"Bart\"]\n",
    "bart.extend(bart_sea05['count'].tolist())\n",
    "lisa=[\"Lisa\"]\n",
    "lisa.extend(lisa_sea05['count'].tolist())\n",
    "\n",
    "# fix maggie's lines since she doesn't have lines in all episodes\n",
    "\n",
    "n_ep = max(home_sea05['number'])\n",
    "\n",
    "magg_sea05_lines = []\n",
    "\n",
    "for ii in range(n_ep):\n",
    "    if (ii+1) in magg_sea05['number'].tolist():\n",
    "        #magg_sea05_lines.append(magg_sea05['count'][ii+1])\n",
    "        magg_sea05_lines.append(magg_sea05[magg_sea05['number']==(ii+1)]['count'].values[0])\n",
    "    else:\n",
    "        magg_sea05_lines.append(0)\n",
    "\n",
    "maggie=[\"Maggie\"]\n",
    "maggie.extend(magg_sea05_lines)\n",
    "\n",
    "df = pd.DataFrame(columns=columns,\n",
    "                  data=[homer,\n",
    "                        marge,\n",
    "                        bart,\n",
    "                        lisa,\n",
    "                        maggie])\n",
    "\n",
    "# plot stacked bar chart of character lines by episode name\n",
    "sns.set()\n",
    "fig,ax=plt.subplots(figsize=(10,6))\n",
    "df.set_index('Character').T.plot(kind='bar', stacked=True, ax=ax)\n"
   ]
  },
  {
   "cell_type": "code",
   "execution_count": 147,
   "metadata": {},
   "outputs": [
    {
     "data": {
      "text/html": [
       "<div>\n",
       "<style>\n",
       "    .dataframe thead tr:only-child th {\n",
       "        text-align: right;\n",
       "    }\n",
       "\n",
       "    .dataframe thead th {\n",
       "        text-align: left;\n",
       "    }\n",
       "\n",
       "    .dataframe tbody tr th {\n",
       "        vertical-align: top;\n",
       "    }\n",
       "</style>\n",
       "<table border=\"1\" class=\"dataframe\">\n",
       "  <thead>\n",
       "    <tr style=\"text-align: right;\">\n",
       "      <th></th>\n",
       "      <th>number</th>\n",
       "      <th>name</th>\n",
       "      <th>text</th>\n",
       "    </tr>\n",
       "  </thead>\n",
       "  <tbody>\n",
       "    <tr>\n",
       "      <th>0</th>\n",
       "      <td>12</td>\n",
       "      <td>Bart Gets Famous</td>\n",
       "      <td>Maggie Simpson:  (SUCK)</td>\n",
       "    </tr>\n",
       "    <tr>\n",
       "      <th>1</th>\n",
       "      <td>4</td>\n",
       "      <td>Rosebud</td>\n",
       "      <td>Maggie Simpson:  (WHIMPERS)</td>\n",
       "    </tr>\n",
       "    <tr>\n",
       "      <th>2</th>\n",
       "      <td>4</td>\n",
       "      <td>Rosebud</td>\n",
       "      <td>Maggie Simpson:  (SOBS)</td>\n",
       "    </tr>\n",
       "    <tr>\n",
       "      <th>3</th>\n",
       "      <td>21</td>\n",
       "      <td>Lady Bouvier's Lover</td>\n",
       "      <td>Maggie Simpson:  (SCARED SOUNDS)</td>\n",
       "    </tr>\n",
       "    <tr>\n",
       "      <th>4</th>\n",
       "      <td>22</td>\n",
       "      <td>Secrets of a Successful Marriage</td>\n",
       "      <td>Maggie Simpson:  (TWO SLOW, NON COMMITTAL SUCKS)</td>\n",
       "    </tr>\n",
       "  </tbody>\n",
       "</table>\n",
       "</div>"
      ],
      "text/plain": [
       "  number                              name  \\\n",
       "0     12                  Bart Gets Famous   \n",
       "1      4                           Rosebud   \n",
       "2      4                           Rosebud   \n",
       "3     21              Lady Bouvier's Lover   \n",
       "4     22  Secrets of a Successful Marriage   \n",
       "\n",
       "                                               text  \n",
       "0                           Maggie Simpson:  (SUCK)  \n",
       "1                       Maggie Simpson:  (WHIMPERS)  \n",
       "2                           Maggie Simpson:  (SOBS)  \n",
       "3                  Maggie Simpson:  (SCARED SOUNDS)  \n",
       "4  Maggie Simpson:  (TWO SLOW, NON COMMITTAL SUCKS)  "
      ]
     },
     "execution_count": 147,
     "metadata": {},
     "output_type": "execute_result"
    }
   ],
   "source": [
    "# SQL query to get Maggie's lines in season 5\n",
    "\n",
    "sql_query = \"\"\"\n",
    "SELECT ep.number, ep.name, scripts.text FROM episodes ep  \n",
    "  LEFT JOIN scripts ON ep.url = scripts.url WHERE ep.season='5'\n",
    "  AND scripts.text LIKE 'Maggie Simpson: %'\n",
    "\"\"\"\n",
    "\n",
    "query = pd.read_sql_query(sql_query,con)\n",
    "query.head()"
   ]
  },
  {
   "cell_type": "code",
   "execution_count": null,
   "metadata": {
    "collapsed": true
   },
   "outputs": [],
   "source": []
  },
  {
   "cell_type": "code",
   "execution_count": null,
   "metadata": {
    "collapsed": true
   },
   "outputs": [],
   "source": []
  },
  {
   "cell_type": "code",
   "execution_count": null,
   "metadata": {
    "collapsed": true
   },
   "outputs": [],
   "source": []
  },
  {
   "cell_type": "code",
   "execution_count": null,
   "metadata": {
    "collapsed": true
   },
   "outputs": [],
   "source": []
  },
  {
   "cell_type": "markdown",
   "metadata": {},
   "source": [
    "### Start with 1 season"
   ]
  },
  {
   "cell_type": "code",
   "execution_count": null,
   "metadata": {
    "collapsed": true
   },
   "outputs": [],
   "source": []
  },
  {
   "cell_type": "code",
   "execution_count": null,
   "metadata": {
    "collapsed": true
   },
   "outputs": [],
   "source": []
  },
  {
   "cell_type": "code",
   "execution_count": null,
   "metadata": {
    "collapsed": true
   },
   "outputs": [],
   "source": []
  },
  {
   "cell_type": "markdown",
   "metadata": {},
   "source": [
    "### Focus on first 15 seasons"
   ]
  },
  {
   "cell_type": "code",
   "execution_count": null,
   "metadata": {
    "collapsed": true
   },
   "outputs": [],
   "source": []
  },
  {
   "cell_type": "code",
   "execution_count": null,
   "metadata": {
    "collapsed": true
   },
   "outputs": [],
   "source": []
  }
 ],
 "metadata": {
  "kernelspec": {
   "display_name": "Python 3",
   "language": "python",
   "name": "python3"
  },
  "language_info": {
   "codemirror_mode": {
    "name": "ipython",
    "version": 3
   },
   "file_extension": ".py",
   "mimetype": "text/x-python",
   "name": "python",
   "nbconvert_exporter": "python",
   "pygments_lexer": "ipython3",
   "version": "3.6.5"
  }
 },
 "nbformat": 4,
 "nbformat_minor": 2
}
